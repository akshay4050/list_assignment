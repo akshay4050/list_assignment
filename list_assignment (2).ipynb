{
 "cells": [
  {
   "cell_type": "markdown",
   "id": "a764c5ce-5204-4cf1-aeae-4cd9cff404c2",
   "metadata": {},
   "source": [
    "### Q 1 \n",
    "### Create 2 lists from a given list where \n",
    "### 1st list will contain all the odd numbers from the original list and\n",
    "### the 2nd one will contain all the even numbers\n",
    "#### L = [1,2,3,4,5,6]"
   ]
  },
  {
   "cell_type": "code",
   "execution_count": 1,
   "id": "ce7227be-466a-482f-93af-7305874654d7",
   "metadata": {},
   "outputs": [
    {
     "name": "stdout",
     "output_type": "stream",
     "text": [
      "[1, 3, 5]\n",
      "[2, 4, 6]\n"
     ]
    }
   ],
   "source": [
    "L = [1,2,3,4,5,6]\n",
    "odd_num = []\n",
    "even_num = []\n",
    "for i in L:\n",
    "    if i%2 == 0:\n",
    "        even_num.append(i)\n",
    "    else:\n",
    "        odd_num.append(i)\n",
    "print(odd_num)\n",
    "print(even_num)"
   ]
  },
  {
   "cell_type": "markdown",
   "id": "afad2c83-0776-4ccc-ba12-7a39a5790d5f",
   "metadata": {},
   "source": [
    "### Q 2\n",
    "### How to take list as input from user.### "
   ]
  },
  {
   "cell_type": "code",
   "execution_count": 2,
   "id": "179880b4-5986-43f1-b9e7-befc81819a9b",
   "metadata": {},
   "outputs": [
    {
     "name": "stdin",
     "output_type": "stream",
     "text": [
      "number of input:  4\n",
      " hii\n",
      " hello\n",
      " bye\n",
      " get lost\n"
     ]
    },
    {
     "name": "stdout",
     "output_type": "stream",
     "text": [
      "['hii', 'hello', 'bye', 'get lost']\n"
     ]
    }
   ],
   "source": [
    "number = int(input(\"number of input: \"))\n",
    "list = []\n",
    "for i in range(number):\n",
    "    input_val = input()\n",
    "    list.append(input_val)\n",
    "print(list)    "
   ]
  },
  {
   "cell_type": "markdown",
   "id": "8b5e5239-207d-4a6a-8cf3-da60e245258d",
   "metadata": {},
   "source": [
    "### Q 3\n",
    "### Write a program to merge 2 list without using the + operator\n",
    "#### L1 = [1,2,3,4]\n",
    "#### L2 = [5,6,7,8]"
   ]
  },
  {
   "cell_type": "code",
   "execution_count": 5,
   "id": "eff0e754-ac4a-45fa-8314-ad5a35ec3c9c",
   "metadata": {},
   "outputs": [
    {
     "name": "stdout",
     "output_type": "stream",
     "text": [
      "[1, 2, 3, 4, 5, 6, 7, 8]\n"
     ]
    }
   ],
   "source": [
    "L1 = [1,2,3,4]\n",
    "L2 = [5,6,7,8]\n",
    "L1.extend(L2)\n",
    "print(L1)"
   ]
  },
  {
   "cell_type": "markdown",
   "id": "98c87ca7-0c9a-4a2c-940a-71a29189c7aa",
   "metadata": {},
   "source": [
    "### Q 4\n",
    "#### Write a program to replace an item with a different item if found in the list \n",
    "#### L = [1,2,3,4,5,3]\n",
    "#### replace 3 with 300"
   ]
  },
  {
   "cell_type": "code",
   "execution_count": 23,
   "id": "0922eec9-a09e-409a-ba4c-9c77daf996db",
   "metadata": {},
   "outputs": [
    {
     "name": "stdout",
     "output_type": "stream",
     "text": [
      "[1, 2, 300, 4, 5, 300]\n"
     ]
    }
   ],
   "source": [
    "L = [1,2,3,4,5,3]\n",
    "L[2] = 300\n",
    "L[5] = 300\n",
    "print(L)\n",
    "        \n",
    "      "
   ]
  },
  {
   "cell_type": "markdown",
   "id": "076a0962-d0d7-433a-ab8f-e2cddcf73704",
   "metadata": {},
   "source": [
    "### Q 5 \n",
    "### Write a program that can convert a 2D list to 1D list"
   ]
  },
  {
   "cell_type": "code",
   "execution_count": 25,
   "id": "eb8bea6e-4dd0-40c7-9f07-fca6265d4908",
   "metadata": {},
   "outputs": [
    {
     "data": {
      "text/plain": [
       "[1, 2, 3, 1, 2, 1, 4, 5, 6, 7]"
      ]
     },
     "execution_count": 25,
     "metadata": {},
     "output_type": "execute_result"
    }
   ],
   "source": [
    "[j for i in [[1,2,3],[1,2],[1,4,5,6,7]] for j in i]"
   ]
  },
  {
   "cell_type": "markdown",
   "id": "dc6718e9-8750-42e0-ac4e-a35b8fa075a6",
   "metadata": {},
   "source": [
    "###  Q 6 \n",
    "### Write a program to remove duplicate items from a list\n",
    "\n",
    "#### L = [1,2,1,2,3,4,5,3,4]"
   ]
  },
  {
   "cell_type": "code",
   "execution_count": 26,
   "id": "3a392b20-ef16-4e22-a6a1-affac0917c5b",
   "metadata": {},
   "outputs": [
    {
     "name": "stdout",
     "output_type": "stream",
     "text": [
      "[1, 2, 3, 4, 5]\n"
     ]
    }
   ],
   "source": [
    "L = [1,2,1,2,3,4,5,3,4]\n",
    "result_list = []\n",
    "for i in L:\n",
    "    if i not in result_list:\n",
    "        result_list.append(i)\n",
    "print(result_list)        "
   ]
  },
  {
   "cell_type": "markdown",
   "id": "38327638-16e8-4c6a-a9a7-c475a7e20416",
   "metadata": {},
   "source": [
    "### Q 7 \n",
    "### Write a program to check if a list is in ascending order or not"
   ]
  },
  {
   "cell_type": "code",
   "execution_count": 27,
   "id": "c90e14b3-0a2a-45ec-a696-6846f37a4890",
   "metadata": {},
   "outputs": [
    {
     "name": "stdout",
     "output_type": "stream",
     "text": [
      "the list is not in acending order\n"
     ]
    }
   ],
   "source": [
    "L = [1,3,6,5,7,2,1]\n",
    "sorted_list = sorted(L)\n",
    "if L == sorted_list:\n",
    "    print(\"the list is in acending order\")\n",
    "else:\n",
    "    print(\"the list is not in acending order\")"
   ]
  },
  {
   "cell_type": "code",
   "execution_count": null,
   "id": "30157051-1a23-4faa-b9ec-e322ab552471",
   "metadata": {},
   "outputs": [],
   "source": []
  }
 ],
 "metadata": {
  "kernelspec": {
   "display_name": "Python 3 (ipykernel)",
   "language": "python",
   "name": "python3"
  },
  "language_info": {
   "codemirror_mode": {
    "name": "ipython",
    "version": 3
   },
   "file_extension": ".py",
   "mimetype": "text/x-python",
   "name": "python",
   "nbconvert_exporter": "python",
   "pygments_lexer": "ipython3",
   "version": "3.11.7"
  }
 },
 "nbformat": 4,
 "nbformat_minor": 5
}
